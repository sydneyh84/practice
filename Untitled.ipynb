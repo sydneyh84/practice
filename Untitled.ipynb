{
 "cells": [
  {
   "cell_type": "code",
   "execution_count": 1,
   "id": "4d8ac092",
   "metadata": {},
   "outputs": [
    {
     "name": "stdout",
     "output_type": "stream",
     "text": [
      "'How are you'\n"
     ]
    }
   ],
   "source": [
    "print(\"'How are you'\")"
   ]
  },
  {
   "cell_type": "code",
   "execution_count": 5,
   "id": "2c935328",
   "metadata": {},
   "outputs": [
    {
     "name": "stdout",
     "output_type": "stream",
     "text": [
      "How are you. what are you doing. thanks for asking.\n"
     ]
    }
   ],
   "source": [
    "print(\"How are you.\"+\" what are you doing.\"+\" thanks for asking.\")"
   ]
  },
  {
   "cell_type": "code",
   "execution_count": null,
   "id": "1e9bebfe",
   "metadata": {},
   "outputs": [],
   "source": []
  }
 ],
 "metadata": {
  "kernelspec": {
   "display_name": "Python 3 (ipykernel)",
   "language": "python",
   "name": "python3"
  },
  "language_info": {
   "codemirror_mode": {
    "name": "ipython",
    "version": 3
   },
   "file_extension": ".py",
   "mimetype": "text/x-python",
   "name": "python",
   "nbconvert_exporter": "python",
   "pygments_lexer": "ipython3",
   "version": "3.9.13"
  }
 },
 "nbformat": 4,
 "nbformat_minor": 5
}
